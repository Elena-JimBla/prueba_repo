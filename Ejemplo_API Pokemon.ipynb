{
 "cells": [
  {
   "cell_type": "markdown",
   "id": "82687ed0",
   "metadata": {},
   "source": [
    "## LA ESTRUCTURA SIEMPRE PARA OBTENER LA INFO QUE NOS INTERESA"
   ]
  },
  {
   "cell_type": "code",
   "execution_count": null,
   "id": "06fa391c",
   "metadata": {},
   "outputs": [],
   "source": [
    "pip install requests"
   ]
  },
  {
   "cell_type": "code",
   "execution_count": null,
   "id": "15b77961",
   "metadata": {},
   "outputs": [],
   "source": [
    "import pandas as pd #excel de Python, donde podemos tocar los datos"
   ]
  },
  {
   "cell_type": "code",
   "execution_count": null,
   "id": "47b8b764",
   "metadata": {},
   "outputs": [],
   "source": [
    "import requests #interactua"
   ]
  },
  {
   "cell_type": "code",
   "execution_count": null,
   "id": "2b940d07",
   "metadata": {},
   "outputs": [],
   "source": [
    "import re"
   ]
  },
  {
   "cell_type": "code",
   "execution_count": null,
   "id": "1ed60b8e",
   "metadata": {},
   "outputs": [],
   "source": [
    "pd.set_option('display.max_columns', None) #poder verlo en tablas (dataFrames)"
   ]
  },
  {
   "cell_type": "code",
   "execution_count": null,
   "id": "594c05fe",
   "metadata": {},
   "outputs": [],
   "source": [
    "url_color = \"https://pokeapi.co/api/v2/pokemon-color/red\" #ES EL ENDPOINT"
   ]
  },
  {
   "cell_type": "code",
   "execution_count": null,
   "id": "3b62a816",
   "metadata": {},
   "outputs": [],
   "source": [
    "llamada_pokemon_color = requests.get(url_color) #SI QUIERO EXTRAR INFO ESTO ES LA BASe, SIEMPRE SE USA ASI"
   ]
  },
  {
   "cell_type": "code",
   "execution_count": null,
   "id": "8173bb46",
   "metadata": {},
   "outputs": [],
   "source": [
    "llamada_pokemon_color.status_code #para ver si la llamada ha sido contestada"
   ]
  },
  {
   "cell_type": "code",
   "execution_count": null,
   "id": "3900cf10",
   "metadata": {},
   "outputs": [],
   "source": [
    "color_json = llamada_pokemon_color.json()\n",
    "color_json #estructura de datos con forma de diccionario JSON"
   ]
  },
  {
   "cell_type": "markdown",
   "id": "e2965010",
   "metadata": {},
   "source": [
    "## TRADUCIMOS EL DICCIONARIO EN MATERIAL QUE PODAMOS MANEJAR"
   ]
  },
  {
   "cell_type": "code",
   "execution_count": null,
   "id": "0a3de54d",
   "metadata": {},
   "outputs": [],
   "source": [
    "color_json.keys() #ME DA LOS ATRIBUTOS"
   ]
  },
  {
   "cell_type": "code",
   "execution_count": null,
   "id": "3a3f8134",
   "metadata": {},
   "outputs": [],
   "source": [
    "#ACCEDER A LA KEY\n",
    "color_json[\"names\"]"
   ]
  },
  {
   "cell_type": "code",
   "execution_count": null,
   "id": "aac8233e",
   "metadata": {},
   "outputs": [],
   "source": [
    "#ahora miramos el tipo\n",
    "type(color_json[\"names\"])"
   ]
  },
  {
   "cell_type": "code",
   "execution_count": null,
   "id": "5962b22d",
   "metadata": {},
   "outputs": [],
   "source": [
    "color_json[\"pokemon_species\"]"
   ]
  },
  {
   "cell_type": "markdown",
   "id": "4a793562",
   "metadata": {},
   "source": [
    "¿QUÉ ES UN DATA FRIEND?"
   ]
  },
  {
   "cell_type": "code",
   "execution_count": null,
   "id": "2281d9f2",
   "metadata": {},
   "outputs": [],
   "source": [
    "pokemon_black = []\n",
    "\n",
    "for diccionario in color_json[\"pokemon_species\"]:\n",
    "\n",
    "    print(diccionario[\"name\"])\n",
    "    \n",
    "    pokemon_black.append(diccionario[\"name\"])\n",
    "    \n",
    "    "
   ]
  },
  {
   "cell_type": "code",
   "execution_count": null,
   "id": "95b54bfa",
   "metadata": {},
   "outputs": [],
   "source": [
    "diccionario_color = {\"color\": [], \"especies\":[]} #Buscamos que nos diga solo estos datos, para ello ponemos la clave y el valor con corchetes para que sea lista"
   ]
  },
  {
   "cell_type": "code",
   "execution_count": null,
   "id": "d2d90e2c",
   "metadata": {},
   "outputs": [],
   "source": [
    "#quiero una lista dond eme ponga el color y otra donde apoarezcan los pokemons con ese color\n",
    "diccionario_color[\"color\"].append(color_json[\"name\"])\n",
    "\n",
    "diccionario_color[\"especies\"].append(pokemon_black)"
   ]
  },
  {
   "cell_type": "markdown",
   "id": "d5c97efa",
   "metadata": {},
   "source": [
    "## AHORA LO PASAMOS A FUNCIONES"
   ]
  },
  {
   "cell_type": "code",
   "execution_count": null,
   "id": "1187211b",
   "metadata": {},
   "outputs": [],
   "source": [
    "def llamar_api(endpoint):\n",
    "    llamada = requests.get(endpoint)\n",
    "    print(f\"La llamada a la API nos ha dado repuesta de {llamada_pokemon_color.status_code}\")\n",
    "\n",
    "    if llamada_pokemon_color.status_code != 200:\n",
    "        print(\"hubo un error de comunicacion\")\n",
    "\n",
    "    else:\n",
    "        return llamada.json()\n",
    "    \n",
    "    \n",
    "def limpiar_color_pokemon(resultados_json, diccionario_resultados_color):\n",
    "\n",
    "    diccionario_resultados_color[\"color\"].append(resultados_json[\"name\"])\n",
    "    \n",
    "    pokemon_green = []\n",
    "\n",
    "    for especie in resultados_json[\"pokemon_species\"]: \n",
    "\n",
    "        lista_especies.append(especie[\"name\"])\n",
    "        \n",
    "        diccionario_resultados_color[\"especies\"].append(lista_especies)\n",
    "\n",
    "    return diccionario_resultados_color"
   ]
  },
  {
   "cell_type": "code",
   "execution_count": 239,
   "id": "7c462f7e",
   "metadata": {},
   "outputs": [
    {
     "name": "stdout",
     "output_type": "stream",
     "text": [
      "La llamada a la API nos ha dado repuesta de 200\n"
     ]
    },
    {
     "data": {
      "text/plain": [
       "{'id': 5,\n",
       " 'name': 'green',\n",
       " 'names': [{'language': {'name': 'ja-Hrkt',\n",
       "    'url': 'https://pokeapi.co/api/v2/language/1/'},\n",
       "   'name': 'みどりいろ'},\n",
       "  {'language': {'name': 'ko', 'url': 'https://pokeapi.co/api/v2/language/3/'},\n",
       "   'name': '초록'},\n",
       "  {'language': {'name': 'zh-Hant',\n",
       "    'url': 'https://pokeapi.co/api/v2/language/4/'},\n",
       "   'name': '綠色'},\n",
       "  {'language': {'name': 'fr', 'url': 'https://pokeapi.co/api/v2/language/5/'},\n",
       "   'name': 'Vert'},\n",
       "  {'language': {'name': 'de', 'url': 'https://pokeapi.co/api/v2/language/6/'},\n",
       "   'name': 'Grün'},\n",
       "  {'language': {'name': 'es', 'url': 'https://pokeapi.co/api/v2/language/7/'},\n",
       "   'name': 'Verde'},\n",
       "  {'language': {'name': 'it', 'url': 'https://pokeapi.co/api/v2/language/8/'},\n",
       "   'name': 'Verde'},\n",
       "  {'language': {'name': 'en', 'url': 'https://pokeapi.co/api/v2/language/9/'},\n",
       "   'name': 'Green'},\n",
       "  {'language': {'name': 'ja', 'url': 'https://pokeapi.co/api/v2/language/11/'},\n",
       "   'name': '緑色'},\n",
       "  {'language': {'name': 'zh-Hans',\n",
       "    'url': 'https://pokeapi.co/api/v2/language/12/'},\n",
       "   'name': '绿色'}],\n",
       " 'pokemon_species': [{'name': 'bulbasaur',\n",
       "   'url': 'https://pokeapi.co/api/v2/pokemon-species/1/'},\n",
       "  {'name': 'caterpie', 'url': 'https://pokeapi.co/api/v2/pokemon-species/10/'},\n",
       "  {'name': 'bellsprout',\n",
       "   'url': 'https://pokeapi.co/api/v2/pokemon-species/69/'},\n",
       "  {'name': 'venusaur', 'url': 'https://pokeapi.co/api/v2/pokemon-species/3/'},\n",
       "  {'name': 'metapod', 'url': 'https://pokeapi.co/api/v2/pokemon-species/11/'},\n",
       "  {'name': 'weepinbell',\n",
       "   'url': 'https://pokeapi.co/api/v2/pokemon-species/70/'},\n",
       "  {'name': 'victreebel',\n",
       "   'url': 'https://pokeapi.co/api/v2/pokemon-species/71/'},\n",
       "  {'name': 'scyther', 'url': 'https://pokeapi.co/api/v2/pokemon-species/123/'},\n",
       "  {'name': 'chikorita',\n",
       "   'url': 'https://pokeapi.co/api/v2/pokemon-species/152/'},\n",
       "  {'name': 'spinarak',\n",
       "   'url': 'https://pokeapi.co/api/v2/pokemon-species/167/'},\n",
       "  {'name': 'natu', 'url': 'https://pokeapi.co/api/v2/pokemon-species/177/'},\n",
       "  {'name': 'meganium',\n",
       "   'url': 'https://pokeapi.co/api/v2/pokemon-species/154/'},\n",
       "  {'name': 'xatu', 'url': 'https://pokeapi.co/api/v2/pokemon-species/178/'},\n",
       "  {'name': 'bellossom',\n",
       "   'url': 'https://pokeapi.co/api/v2/pokemon-species/182/'},\n",
       "  {'name': 'politoed',\n",
       "   'url': 'https://pokeapi.co/api/v2/pokemon-species/186/'},\n",
       "  {'name': 'skiploom',\n",
       "   'url': 'https://pokeapi.co/api/v2/pokemon-species/188/'},\n",
       "  {'name': 'larvitar',\n",
       "   'url': 'https://pokeapi.co/api/v2/pokemon-species/246/'},\n",
       "  {'name': 'celebi', 'url': 'https://pokeapi.co/api/v2/pokemon-species/251/'},\n",
       "  {'name': 'treecko', 'url': 'https://pokeapi.co/api/v2/pokemon-species/252/'},\n",
       "  {'name': 'lotad', 'url': 'https://pokeapi.co/api/v2/pokemon-species/270/'},\n",
       "  {'name': 'tyranitar',\n",
       "   'url': 'https://pokeapi.co/api/v2/pokemon-species/248/'},\n",
       "  {'name': 'grovyle', 'url': 'https://pokeapi.co/api/v2/pokemon-species/253/'},\n",
       "  {'name': 'sceptile',\n",
       "   'url': 'https://pokeapi.co/api/v2/pokemon-species/254/'},\n",
       "  {'name': 'dustox', 'url': 'https://pokeapi.co/api/v2/pokemon-species/269/'},\n",
       "  {'name': 'lombre', 'url': 'https://pokeapi.co/api/v2/pokemon-species/271/'},\n",
       "  {'name': 'ludicolo',\n",
       "   'url': 'https://pokeapi.co/api/v2/pokemon-species/272/'},\n",
       "  {'name': 'breloom', 'url': 'https://pokeapi.co/api/v2/pokemon-species/286/'},\n",
       "  {'name': 'electrike',\n",
       "   'url': 'https://pokeapi.co/api/v2/pokemon-species/309/'},\n",
       "  {'name': 'gulpin', 'url': 'https://pokeapi.co/api/v2/pokemon-species/316/'},\n",
       "  {'name': 'cacnea', 'url': 'https://pokeapi.co/api/v2/pokemon-species/331/'},\n",
       "  {'name': 'kecleon', 'url': 'https://pokeapi.co/api/v2/pokemon-species/352/'},\n",
       "  {'name': 'tropius', 'url': 'https://pokeapi.co/api/v2/pokemon-species/357/'},\n",
       "  {'name': 'roselia', 'url': 'https://pokeapi.co/api/v2/pokemon-species/315/'},\n",
       "  {'name': 'vibrava', 'url': 'https://pokeapi.co/api/v2/pokemon-species/329/'},\n",
       "  {'name': 'flygon', 'url': 'https://pokeapi.co/api/v2/pokemon-species/330/'},\n",
       "  {'name': 'cacturne',\n",
       "   'url': 'https://pokeapi.co/api/v2/pokemon-species/332/'},\n",
       "  {'name': 'cradily', 'url': 'https://pokeapi.co/api/v2/pokemon-species/346/'},\n",
       "  {'name': 'rayquaza',\n",
       "   'url': 'https://pokeapi.co/api/v2/pokemon-species/384/'},\n",
       "  {'name': 'turtwig', 'url': 'https://pokeapi.co/api/v2/pokemon-species/387/'},\n",
       "  {'name': 'budew', 'url': 'https://pokeapi.co/api/v2/pokemon-species/406/'},\n",
       "  {'name': 'burmy', 'url': 'https://pokeapi.co/api/v2/pokemon-species/412/'},\n",
       "  {'name': 'bronzor', 'url': 'https://pokeapi.co/api/v2/pokemon-species/436/'},\n",
       "  {'name': 'grotle', 'url': 'https://pokeapi.co/api/v2/pokemon-species/388/'},\n",
       "  {'name': 'torterra',\n",
       "   'url': 'https://pokeapi.co/api/v2/pokemon-species/389/'},\n",
       "  {'name': 'roserade',\n",
       "   'url': 'https://pokeapi.co/api/v2/pokemon-species/407/'},\n",
       "  {'name': 'wormadam',\n",
       "   'url': 'https://pokeapi.co/api/v2/pokemon-species/413/'},\n",
       "  {'name': 'bronzong',\n",
       "   'url': 'https://pokeapi.co/api/v2/pokemon-species/437/'},\n",
       "  {'name': 'carnivine',\n",
       "   'url': 'https://pokeapi.co/api/v2/pokemon-species/455/'},\n",
       "  {'name': 'shaymin', 'url': 'https://pokeapi.co/api/v2/pokemon-species/492/'},\n",
       "  {'name': 'snivy', 'url': 'https://pokeapi.co/api/v2/pokemon-species/495/'},\n",
       "  {'name': 'pansage', 'url': 'https://pokeapi.co/api/v2/pokemon-species/511/'},\n",
       "  {'name': 'yanmega', 'url': 'https://pokeapi.co/api/v2/pokemon-species/469/'},\n",
       "  {'name': 'leafeon', 'url': 'https://pokeapi.co/api/v2/pokemon-species/470/'},\n",
       "  {'name': 'servine', 'url': 'https://pokeapi.co/api/v2/pokemon-species/496/'},\n",
       "  {'name': 'serperior',\n",
       "   'url': 'https://pokeapi.co/api/v2/pokemon-species/497/'},\n",
       "  {'name': 'simisage',\n",
       "   'url': 'https://pokeapi.co/api/v2/pokemon-species/512/'},\n",
       "  {'name': 'cottonee',\n",
       "   'url': 'https://pokeapi.co/api/v2/pokemon-species/546/'},\n",
       "  {'name': 'petilil', 'url': 'https://pokeapi.co/api/v2/pokemon-species/548/'},\n",
       "  {'name': 'basculin',\n",
       "   'url': 'https://pokeapi.co/api/v2/pokemon-species/550/'},\n",
       "  {'name': 'maractus',\n",
       "   'url': 'https://pokeapi.co/api/v2/pokemon-species/556/'},\n",
       "  {'name': 'trubbish',\n",
       "   'url': 'https://pokeapi.co/api/v2/pokemon-species/568/'},\n",
       "  {'name': 'solosis', 'url': 'https://pokeapi.co/api/v2/pokemon-species/577/'},\n",
       "  {'name': 'swadloon',\n",
       "   'url': 'https://pokeapi.co/api/v2/pokemon-species/541/'},\n",
       "  {'name': 'whimsicott',\n",
       "   'url': 'https://pokeapi.co/api/v2/pokemon-species/547/'},\n",
       "  {'name': 'lilligant',\n",
       "   'url': 'https://pokeapi.co/api/v2/pokemon-species/549/'},\n",
       "  {'name': 'garbodor',\n",
       "   'url': 'https://pokeapi.co/api/v2/pokemon-species/569/'},\n",
       "  {'name': 'duosion', 'url': 'https://pokeapi.co/api/v2/pokemon-species/578/'},\n",
       "  {'name': 'reuniclus',\n",
       "   'url': 'https://pokeapi.co/api/v2/pokemon-species/579/'},\n",
       "  {'name': 'axew', 'url': 'https://pokeapi.co/api/v2/pokemon-species/610/'},\n",
       "  {'name': 'golett', 'url': 'https://pokeapi.co/api/v2/pokemon-species/622/'},\n",
       "  {'name': 'virizion',\n",
       "   'url': 'https://pokeapi.co/api/v2/pokemon-species/640/'},\n",
       "  {'name': 'tornadus',\n",
       "   'url': 'https://pokeapi.co/api/v2/pokemon-species/641/'},\n",
       "  {'name': 'chespin', 'url': 'https://pokeapi.co/api/v2/pokemon-species/650/'},\n",
       "  {'name': 'fraxure', 'url': 'https://pokeapi.co/api/v2/pokemon-species/611/'},\n",
       "  {'name': 'golurk', 'url': 'https://pokeapi.co/api/v2/pokemon-species/623/'},\n",
       "  {'name': 'quilladin',\n",
       "   'url': 'https://pokeapi.co/api/v2/pokemon-species/651/'},\n",
       "  {'name': 'chesnaught',\n",
       "   'url': 'https://pokeapi.co/api/v2/pokemon-species/652/'},\n",
       "  {'name': 'hawlucha',\n",
       "   'url': 'https://pokeapi.co/api/v2/pokemon-species/701/'},\n",
       "  {'name': 'zygarde', 'url': 'https://pokeapi.co/api/v2/pokemon-species/718/'},\n",
       "  {'name': 'dewpider',\n",
       "   'url': 'https://pokeapi.co/api/v2/pokemon-species/751/'},\n",
       "  {'name': 'comfey', 'url': 'https://pokeapi.co/api/v2/pokemon-species/764/'},\n",
       "  {'name': 'charjabug',\n",
       "   'url': 'https://pokeapi.co/api/v2/pokemon-species/737/'},\n",
       "  {'name': 'araquanid',\n",
       "   'url': 'https://pokeapi.co/api/v2/pokemon-species/752/'},\n",
       "  {'name': 'dhelmise',\n",
       "   'url': 'https://pokeapi.co/api/v2/pokemon-species/781/'},\n",
       "  {'name': 'celesteela',\n",
       "   'url': 'https://pokeapi.co/api/v2/pokemon-species/797/'},\n",
       "  {'name': 'grookey', 'url': 'https://pokeapi.co/api/v2/pokemon-species/810/'},\n",
       "  {'name': 'gossifleur',\n",
       "   'url': 'https://pokeapi.co/api/v2/pokemon-species/829/'},\n",
       "  {'name': 'chewtle', 'url': 'https://pokeapi.co/api/v2/pokemon-species/833/'},\n",
       "  {'name': 'applin', 'url': 'https://pokeapi.co/api/v2/pokemon-species/840/'},\n",
       "  {'name': 'thwackey',\n",
       "   'url': 'https://pokeapi.co/api/v2/pokemon-species/811/'},\n",
       "  {'name': 'rillaboom',\n",
       "   'url': 'https://pokeapi.co/api/v2/pokemon-species/812/'},\n",
       "  {'name': 'eldegoss',\n",
       "   'url': 'https://pokeapi.co/api/v2/pokemon-species/830/'},\n",
       "  {'name': 'drednaw', 'url': 'https://pokeapi.co/api/v2/pokemon-species/834/'},\n",
       "  {'name': 'flapple', 'url': 'https://pokeapi.co/api/v2/pokemon-species/841/'},\n",
       "  {'name': 'silicobra',\n",
       "   'url': 'https://pokeapi.co/api/v2/pokemon-species/843/'},\n",
       "  {'name': 'dracozolt',\n",
       "   'url': 'https://pokeapi.co/api/v2/pokemon-species/880/'},\n",
       "  {'name': 'dracovish',\n",
       "   'url': 'https://pokeapi.co/api/v2/pokemon-species/882/'},\n",
       "  {'name': 'dreepy', 'url': 'https://pokeapi.co/api/v2/pokemon-species/885/'},\n",
       "  {'name': 'zarude', 'url': 'https://pokeapi.co/api/v2/pokemon-species/893/'},\n",
       "  {'name': 'regidrago',\n",
       "   'url': 'https://pokeapi.co/api/v2/pokemon-species/895/'},\n",
       "  {'name': 'calyrex', 'url': 'https://pokeapi.co/api/v2/pokemon-species/898/'},\n",
       "  {'name': 'sprigatito',\n",
       "   'url': 'https://pokeapi.co/api/v2/pokemon-species/906/'},\n",
       "  {'name': 'sandaconda',\n",
       "   'url': 'https://pokeapi.co/api/v2/pokemon-species/844/'},\n",
       "  {'name': 'copperajah',\n",
       "   'url': 'https://pokeapi.co/api/v2/pokemon-species/879/'},\n",
       "  {'name': 'drakloak',\n",
       "   'url': 'https://pokeapi.co/api/v2/pokemon-species/886/'},\n",
       "  {'name': 'dragapult',\n",
       "   'url': 'https://pokeapi.co/api/v2/pokemon-species/887/'},\n",
       "  {'name': 'basculegion',\n",
       "   'url': 'https://pokeapi.co/api/v2/pokemon-species/902/'},\n",
       "  {'name': 'floragato',\n",
       "   'url': 'https://pokeapi.co/api/v2/pokemon-species/907/'},\n",
       "  {'name': 'meowscarada',\n",
       "   'url': 'https://pokeapi.co/api/v2/pokemon-species/908/'},\n",
       "  {'name': 'spidops', 'url': 'https://pokeapi.co/api/v2/pokemon-species/918/'},\n",
       "  {'name': 'smoliv', 'url': 'https://pokeapi.co/api/v2/pokemon-species/928/'},\n",
       "  {'name': 'squawkabilly',\n",
       "   'url': 'https://pokeapi.co/api/v2/pokemon-species/931/'},\n",
       "  {'name': 'capsakid',\n",
       "   'url': 'https://pokeapi.co/api/v2/pokemon-species/951/'},\n",
       "  {'name': 'cyclizar',\n",
       "   'url': 'https://pokeapi.co/api/v2/pokemon-species/967/'},\n",
       "  {'name': 'iron-thorns',\n",
       "   'url': 'https://pokeapi.co/api/v2/pokemon-species/995/'},\n",
       "  {'name': 'dolliv', 'url': 'https://pokeapi.co/api/v2/pokemon-species/929/'},\n",
       "  {'name': 'bellibolt',\n",
       "   'url': 'https://pokeapi.co/api/v2/pokemon-species/939/'},\n",
       "  {'name': 'scovillain',\n",
       "   'url': 'https://pokeapi.co/api/v2/pokemon-species/952/'},\n",
       "  {'name': 'rabsca', 'url': 'https://pokeapi.co/api/v2/pokemon-species/954/'},\n",
       "  {'name': 'roaring-moon',\n",
       "   'url': 'https://pokeapi.co/api/v2/pokemon-species/1005/'},\n",
       "  {'name': 'iron-leaves',\n",
       "   'url': 'https://pokeapi.co/api/v2/pokemon-species/1010/'},\n",
       "  {'name': 'poltchageist',\n",
       "   'url': 'https://pokeapi.co/api/v2/pokemon-species/1012/'},\n",
       "  {'name': 'ogerpon',\n",
       "   'url': 'https://pokeapi.co/api/v2/pokemon-species/1017/'},\n",
       "  {'name': 'ivysaur', 'url': 'https://pokeapi.co/api/v2/pokemon-species/2/'},\n",
       "  {'name': 'bayleef', 'url': 'https://pokeapi.co/api/v2/pokemon-species/153/'},\n",
       "  {'name': 'appletun',\n",
       "   'url': 'https://pokeapi.co/api/v2/pokemon-species/842/'},\n",
       "  {'name': 'arboliva',\n",
       "   'url': 'https://pokeapi.co/api/v2/pokemon-species/930/'},\n",
       "  {'name': 'dipplin',\n",
       "   'url': 'https://pokeapi.co/api/v2/pokemon-species/1011/'},\n",
       "  {'name': 'sinistcha',\n",
       "   'url': 'https://pokeapi.co/api/v2/pokemon-species/1013/'},\n",
       "  {'name': 'hydrapple',\n",
       "   'url': 'https://pokeapi.co/api/v2/pokemon-species/1019/'}]}"
      ]
     },
     "execution_count": 239,
     "metadata": {},
     "output_type": "execute_result"
    }
   ],
   "source": [
    "diccionario_color = {\"color\": [], \"especies\":[]}\n",
    "url_green = \"https://pokeapi.co/api/v2/pokemon-color/green\"\n",
    "respuesta_green = llamar_api(url_green)\n",
    "respuesta_green"
   ]
  },
  {
   "cell_type": "code",
   "execution_count": 240,
   "id": "e0a71aaa",
   "metadata": {},
   "outputs": [
    {
     "data": {
      "text/plain": [
       "{'color': [], 'especies': []}"
      ]
     },
     "execution_count": 240,
     "metadata": {},
     "output_type": "execute_result"
    }
   ],
   "source": [
    "diccionario_color"
   ]
  }
 ],
 "metadata": {
  "kernelspec": {
   "display_name": "base",
   "language": "python",
   "name": "python3"
  },
  "language_info": {
   "codemirror_mode": {
    "name": "ipython",
    "version": 3
   },
   "file_extension": ".py",
   "mimetype": "text/x-python",
   "name": "python",
   "nbconvert_exporter": "python",
   "pygments_lexer": "ipython3",
   "version": "3.12.7"
  }
 },
 "nbformat": 4,
 "nbformat_minor": 5
}
